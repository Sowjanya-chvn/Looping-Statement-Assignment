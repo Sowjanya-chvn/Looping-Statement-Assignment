{
 "cells": [
  {
   "cell_type": "code",
   "execution_count": 1,
   "metadata": {},
   "outputs": [],
   "source": [
    "# 1. WRITE A PYTHON PROGRAM TO CONVERT A STRING TO LOWER CASE\n",
    "# 2. WRITE A PYTHON PROGRAM TO CONVERT ONLY ODD INDEXED CHARACTERS TO LOWER CASE\n",
    "# Ex: PYTHON\n",
    "# O/P: PyThOn\n",
    "# 3. WRITE A PYTHON PROGRAM TO CONVERT ONLY EVEN INDEXED CHARACTERA TO LOWER CASE\n",
    "# Ex: PYTHON\n",
    "# O/P: pYtHoN"
   ]
  },
  {
   "cell_type": "code",
   "execution_count": 2,
   "metadata": {},
   "outputs": [
    {
     "data": {
      "text/plain": [
       "'abcdef'"
      ]
     },
     "execution_count": 2,
     "metadata": {},
     "output_type": "execute_result"
    }
   ],
   "source": [
    "# 1. WRITE A PYTHON PROGRAM TO CONVERT A STRING TO LOWER CASE\n",
    "x='ABCDEF'\n",
    "x.lower()"
   ]
  },
  {
   "cell_type": "code",
   "execution_count": 3,
   "metadata": {},
   "outputs": [
    {
     "name": "stdout",
     "output_type": "stream",
     "text": [
      "Enter a Word: PYTHON\n",
      " p\n",
      " py\n",
      " pyt\n",
      " pyth\n",
      " pytho\n",
      " python\n"
     ]
    }
   ],
   "source": [
    "x=input(\"Enter a Word: \")\n",
    "count=0\n",
    "newstring=\" \"\n",
    "for y in x:\n",
    "    count=count+1\n",
    "    newstring+=y.lower()\n",
    "    print(newstring)"
   ]
  },
  {
   "cell_type": "code",
   "execution_count": 4,
   "metadata": {},
   "outputs": [
    {
     "name": "stdout",
     "output_type": "stream",
     "text": [
      "Enter a Word: PYTHON\n",
      " P\n",
      " Py\n",
      " PyT\n",
      " PyTh\n",
      " PyThO\n",
      " PyThOn\n"
     ]
    }
   ],
   "source": [
    "# 2. WRITE A PYTHON PROGRAM TO CONVERT ONLY ODD INDEXED CHARACTERS TO LOWER CASE\n",
    "x=input(\"Enter a Word: \")\n",
    "count=0\n",
    "newstring=\" \"\n",
    "for y in x:\n",
    "    count=count+1\n",
    "    if count%2!=0:\n",
    "        newstring = newstring+y.upper()\n",
    "        print(newstring)\n",
    "    else:\n",
    "        newstring += y.lower()\n",
    "        print(newstring)"
   ]
  },
  {
   "cell_type": "code",
   "execution_count": 5,
   "metadata": {},
   "outputs": [
    {
     "name": "stdout",
     "output_type": "stream",
     "text": [
      "Enter a word: PYTHON\n",
      " p\n",
      " pY\n",
      " pYt\n",
      " pYtH\n",
      " pYtHo\n",
      " pYtHoN\n"
     ]
    }
   ],
   "source": [
    "# 3. WRITE A PYTHON PROGRAM TO CONVERT ONLY EVEN INDEXED CHARACTERA TO LOWER CASE\n",
    "x=input(\"Enter a word: \")\n",
    "count=0\n",
    "newstring=\" \"\n",
    "for y in x:\n",
    "    count=count+1\n",
    "    if count%2==0:\n",
    "        newstring = newstring+y.upper()\n",
    "        print(newstring)\n",
    "    else:\n",
    "        newstring += y.lower()\n",
    "        print(newstring)"
   ]
  },
  {
   "cell_type": "code",
   "execution_count": null,
   "metadata": {},
   "outputs": [],
   "source": []
  }
 ],
 "metadata": {
  "kernelspec": {
   "display_name": "Python 3",
   "language": "python",
   "name": "python3"
  },
  "language_info": {
   "codemirror_mode": {
    "name": "ipython",
    "version": 3
   },
   "file_extension": ".py",
   "mimetype": "text/x-python",
   "name": "python",
   "nbconvert_exporter": "python",
   "pygments_lexer": "ipython3",
   "version": "3.7.4"
  }
 },
 "nbformat": 4,
 "nbformat_minor": 2
}
